{
  "cells": [
    {
      "cell_type": "markdown",
      "metadata": {
        "id": "view-in-github",
        "colab_type": "text"
      },
      "source": [
        "<a href=\"https://colab.research.google.com/github/Jas7777/AHS-Hackathon/blob/main/Facial_recognition.ipynb\" target=\"_parent\"><img src=\"https://colab.research.google.com/assets/colab-badge.svg\" alt=\"Open In Colab\"/></a>"
      ]
    },
    {
      "cell_type": "code",
      "execution_count": null,
      "metadata": {
        "colab": {
          "base_uri": "https://localhost:8080/"
        },
        "id": "a90_kJ3txQ3M",
        "outputId": "7a028a35-d362-49bb-aa1d-ae774b80be0e"
      },
      "outputs": [
        {
          "name": "stdout",
          "output_type": "stream",
          "text": [
            "\u001b[31mERROR: pip's dependency resolver does not currently take into account all the packages that are installed. This behaviour is the source of the following dependency conflicts.\n",
            "nbclient 0.6.6 requires traitlets>=5.2.2, but you have traitlets 5.1.1 which is incompatible.\n",
            "jupyter-console 5.2.0 requires prompt-toolkit<2.0.0,>=1.0.0, but you have prompt-toolkit 3.0.30 which is incompatible.\n",
            "google-colab 1.0.0 requires ipykernel~=4.10, but you have ipykernel 6.15.1 which is incompatible.\n",
            "google-colab 1.0.0 requires ipython~=5.5.0, but you have ipython 7.34.0 which is incompatible.\n",
            "google-colab 1.0.0 requires tornado~=5.1.0; python_version >= \"3.0\", but you have tornado 6.2 which is incompatible.\u001b[0m\n",
            "--2022-07-11 02:56:39--  https://www.dropbox.com/s/072b5vf4b33bu1l/emotion_detection_model_for_streamlit.h5\n",
            "Resolving www.dropbox.com (www.dropbox.com)... 162.125.5.18, 2620:100:601d:18::a27d:512\n",
            "Connecting to www.dropbox.com (www.dropbox.com)|162.125.5.18|:443... connected.\n",
            "HTTP request sent, awaiting response... 301 Moved Permanently\n",
            "Location: /s/raw/072b5vf4b33bu1l/emotion_detection_model_for_streamlit.h5 [following]\n",
            "--2022-07-11 02:56:39--  https://www.dropbox.com/s/raw/072b5vf4b33bu1l/emotion_detection_model_for_streamlit.h5\n",
            "Reusing existing connection to www.dropbox.com:443.\n",
            "HTTP request sent, awaiting response... 302 Found\n",
            "Location: https://uc9952a417d7c69ba60dc5f3b9c0.dl.dropboxusercontent.com/cd/0/inline/Bo29VmldnhT8noEp5rDJeooPS94keF0n_pzJQHMA9GHlbD1TSvrcJQdfyUmYZusfor5Al8Uhx47WB-llof_WKYrGsbq997X3o2bVQj_eWf6ihjrWu_DtXMsalOp9PC1t2-ymHsDBCiG1kY3RRmyMsK_zdem-_CA9u9nSfputu42l1g/file# [following]\n",
            "--2022-07-11 02:56:40--  https://uc9952a417d7c69ba60dc5f3b9c0.dl.dropboxusercontent.com/cd/0/inline/Bo29VmldnhT8noEp5rDJeooPS94keF0n_pzJQHMA9GHlbD1TSvrcJQdfyUmYZusfor5Al8Uhx47WB-llof_WKYrGsbq997X3o2bVQj_eWf6ihjrWu_DtXMsalOp9PC1t2-ymHsDBCiG1kY3RRmyMsK_zdem-_CA9u9nSfputu42l1g/file\n",
            "Resolving uc9952a417d7c69ba60dc5f3b9c0.dl.dropboxusercontent.com (uc9952a417d7c69ba60dc5f3b9c0.dl.dropboxusercontent.com)... 162.125.5.15, 2620:100:601d:15::a27d:50f\n",
            "Connecting to uc9952a417d7c69ba60dc5f3b9c0.dl.dropboxusercontent.com (uc9952a417d7c69ba60dc5f3b9c0.dl.dropboxusercontent.com)|162.125.5.15|:443... connected.\n",
            "HTTP request sent, awaiting response... 200 OK\n",
            "Length: 126265696 (120M) [text/plain]\n",
            "Saving to: ‘emotion_detection_model_for_streamlit.h5’\n",
            "\n",
            "emotion_detection_m 100%[===================>] 120.42M  71.9MB/s    in 1.7s    \n",
            "\n",
            "2022-07-11 02:56:43 (71.9 MB/s) - ‘emotion_detection_model_for_streamlit.h5’ saved [126265696/126265696]\n",
            "\n",
            "--2022-07-11 02:56:43--  https://www.dropbox.com/s/p52z1qle0x1uf6f/happy.png\n",
            "Resolving www.dropbox.com (www.dropbox.com)... 162.125.5.18, 2620:100:601d:18::a27d:512\n",
            "Connecting to www.dropbox.com (www.dropbox.com)|162.125.5.18|:443... connected.\n",
            "HTTP request sent, awaiting response... 301 Moved Permanently\n",
            "Location: /s/raw/p52z1qle0x1uf6f/happy.png [following]\n",
            "--2022-07-11 02:56:43--  https://www.dropbox.com/s/raw/p52z1qle0x1uf6f/happy.png\n",
            "Reusing existing connection to www.dropbox.com:443.\n",
            "HTTP request sent, awaiting response... 302 Found\n",
            "Location: https://uc2d9a8d245bbbc6ec2b2a599bb3.dl.dropboxusercontent.com/cd/0/inline/Bo2q0DyoT6cGy_PCMzsjZF2_1e29iSirdgH7Ds3MLdjTceXxmPgPA6BfuBNOMOS5Vfz2yL8Et8eqfFMQqNr-sHInWwoSGh-RiZaoyJ_39vDMXr8wKiAlw4fot5_3G52Nb5HuSU73Bw-f7O1LEhJ7gaEQ0m4h1U5fAu8CyrvEF0jHnA/file# [following]\n",
            "--2022-07-11 02:56:43--  https://uc2d9a8d245bbbc6ec2b2a599bb3.dl.dropboxusercontent.com/cd/0/inline/Bo2q0DyoT6cGy_PCMzsjZF2_1e29iSirdgH7Ds3MLdjTceXxmPgPA6BfuBNOMOS5Vfz2yL8Et8eqfFMQqNr-sHInWwoSGh-RiZaoyJ_39vDMXr8wKiAlw4fot5_3G52Nb5HuSU73Bw-f7O1LEhJ7gaEQ0m4h1U5fAu8CyrvEF0jHnA/file\n",
            "Resolving uc2d9a8d245bbbc6ec2b2a599bb3.dl.dropboxusercontent.com (uc2d9a8d245bbbc6ec2b2a599bb3.dl.dropboxusercontent.com)... 162.125.5.15, 2620:100:601d:15::a27d:50f\n",
            "Connecting to uc2d9a8d245bbbc6ec2b2a599bb3.dl.dropboxusercontent.com (uc2d9a8d245bbbc6ec2b2a599bb3.dl.dropboxusercontent.com)|162.125.5.15|:443... connected.\n",
            "HTTP request sent, awaiting response... 200 OK\n",
            "Length: 357183 (349K) [image/png]\n",
            "Saving to: ‘happy.png’\n",
            "\n",
            "happy.png           100%[===================>] 348.81K  --.-KB/s    in 0.08s   \n",
            "\n",
            "2022-07-11 02:56:44 (4.27 MB/s) - ‘happy.png’ saved [357183/357183]\n",
            "\n",
            "Found existing installation: tornado 6.2\n",
            "Uninstalling tornado-6.2:\n",
            "  Successfully uninstalled tornado-6.2\n",
            "Looking in indexes: https://pypi.org/simple, https://us-python.pkg.dev/colab-wheels/public/simple/\n",
            "Collecting tornado==5.1.0\n",
            "  Downloading tornado-5.1.tar.gz (516 kB)\n",
            "\u001b[K     |████████████████████████████████| 516 kB 5.1 MB/s \n",
            "\u001b[?25hBuilding wheels for collected packages: tornado\n",
            "  Building wheel for tornado (setup.py) ... \u001b[?25l\u001b[?25hdone\n",
            "  Created wheel for tornado: filename=tornado-5.1-cp37-cp37m-linux_x86_64.whl size=462824 sha256=5aed4890992271868f869f2e65d212f57545ea881b2e16c763bc6693c272a181\n",
            "  Stored in directory: /root/.cache/pip/wheels/8e/53/de/6a6860ebf6d2958e20a9a8337f25b0369f1666002ade0ce284\n",
            "Successfully built tornado\n",
            "Installing collected packages: tornado\n",
            "\u001b[31mERROR: pip's dependency resolver does not currently take into account all the packages that are installed. This behaviour is the source of the following dependency conflicts.\n",
            "jupyter-client 7.3.4 requires tornado>=6.0, but you have tornado 5.1 which is incompatible.\n",
            "ipykernel 6.15.1 requires tornado>=6.1, but you have tornado 5.1 which is incompatible.\n",
            "google-colab 1.0.0 requires ipykernel~=4.10, but you have ipykernel 6.15.1 which is incompatible.\n",
            "google-colab 1.0.0 requires ipython~=5.5.0, but you have ipython 7.34.0 which is incompatible.\u001b[0m\n",
            "Successfully installed tornado-5.1\n"
          ]
        }
      ],
      "source": [
        "#@title Run this cell to load some data! \n",
        "!pip -q install streamlit > /dev/null\n",
        "!pip -q install pyngrok > /dev/null\n",
        "!wget https://www.dropbox.com/s/072b5vf4b33bu1l/emotion_detection_model_for_streamlit.h5 > /dev/null\n",
        "!wget https://www.dropbox.com/s/p52z1qle0x1uf6f/happy.png > /dev/null\n",
        "\n",
        "!pip uninstall tornado -y\n",
        "!yes | pip install tornado==5.1.0\n",
        "\n",
        "import tensorflow as tf\n",
        "import pandas as pd\n",
        "import cv2\n",
        "import plotly.express as px\n",
        "import numpy as np\n",
        "from pyngrok import ngrok"
      ]
    },
    {
      "cell_type": "code",
      "execution_count": null,
      "metadata": {
        "colab": {
          "base_uri": "https://localhost:8080/"
        },
        "id": "hRoSCBTrxS-l",
        "outputId": "a62fc646-2cc3-4edf-9550-2adee3883daa"
      },
      "outputs": [
        {
          "name": "stdout",
          "output_type": "stream",
          "text": [
            "Authtoken saved to configuration file: /root/.ngrok2/ngrok.yml\n"
          ]
        }
      ],
      "source": [
        "!ngrok authtoken 29nmRwsadmEHrVqrXOmdWnnkibn_4b7tAb7mLGwVwYwVQc2zX # paste your authtoken here"
      ]
    },
    {
      "cell_type": "code",
      "execution_count": null,
      "metadata": {
        "colab": {
          "base_uri": "https://localhost:8080/"
        },
        "id": "-7kHawbNxUXE",
        "outputId": "117589cf-2faf-462d-beae-8ec3877e1db6"
      },
      "outputs": [
        {
          "name": "stdout",
          "output_type": "stream",
          "text": [
            "Writing app.py\n"
          ]
        }
      ],
      "source": [
        "#@title Run this cell to initialize your website!\n",
        "%%writefile app.py\n",
        "import streamlit as st\n",
        "\n",
        "st.title(\"Face Teller\")\n",
        "st.header(\"Tells the emotion\")"
      ]
    },
    {
      "cell_type": "code",
      "execution_count": null,
      "metadata": {
        "colab": {
          "base_uri": "https://localhost:8080/"
        },
        "id": "iy51lPfLxW9f",
        "outputId": "a943ace9-8d2c-402a-a147-6c089070f99a"
      },
      "outputs": [
        {
          "name": "stdout",
          "output_type": "stream",
          "text": [
            "Overwriting app.py\n"
          ]
        }
      ],
      "source": [
        "%%writefile app.py\n",
        "import streamlit as st\n",
        "import pandas as pd\n",
        "import numpy as np\n",
        "import cv2\n",
        "import plotly.express as px\n",
        "import tensorflow as tf\n",
        "\n",
        "model = tf.keras.models.load_model(\"emotion_detection_model_for_streamlit.h5\")\n",
        "model.summary()\n",
        "model.input_shape\n",
        "st.title(\"Face Teller\")\n",
        "st.header(\"Tells the emotion\")\n",
        "# ====== Save model ========\n",
        "model.save(\"emotion_detection_model_for_streamlit.h5\")\n",
        "\n",
        "# ====== Load model ========\n",
        "tf.keras.models.load_model(\"emotion_detection_model_for_streamlit.h5\")\n",
        "\n",
        "\n",
        "f = st.file_uploader(\"Upload Image\")\n",
        "if f is not None: \n",
        "  file_bytes = np.asarray(bytearray(f.read()), dtype=np.uint8)\n",
        "  image = cv2.imdecode(file_bytes, 1)\n",
        "  print(\"Shape of image:\")\n",
        "  print(image.shape)\n",
        "  print(f\"Maximum value in the image: \")\n",
        "  print(image.max())\n",
        "  print(\"Minimum value in the image:\")\n",
        "  print(image.min())\n",
        "  st.write(px.imshow(cv2.cvtColor(image, cv2.COLOR_BGR2RGB)))\n",
        "  resized = cv2.resize(image, (48, 48), interpolation=cv2.INTER_LANCZOS4)\n",
        "  print(resized.shape)\n",
        "\n",
        "\n",
        "  gray_1d = np.mean(resized, axis=-1)\n",
        "  gray = np.zeros_like(resized)\n",
        "  \n",
        "  gray[:,:,0] = gray_1d\n",
        "  gray[:,:,1] = gray_1d\n",
        "  gray[:,:,2] = gray_1d\n",
        "  px.imshow(gray)\n",
        "  normalized = gray/255\n",
        "  st.write(px.imshow(normalized))\n",
        "  print(\"Shape of image:\")\n",
        "  print(normalized.shape)\n",
        "  print(f\"Maximum value in the image: \")\n",
        "  print(normalized.max())\n",
        "  print(\"Minimum value in the image:\")\n",
        "  print(normalized.min())\n",
        "  EMOTIONS = ['ANGRY', 'HAPPY', 'SAD', 'SURPRISE', 'NEUTRAL']\n",
        "\n",
        "\n",
        "\n",
        "  model_input = np.expand_dims(normalized,0)\n",
        "  scores = model.predict(model_input).flatten()\n",
        "  scores\n",
        "  \n",
        "  df = pd.DataFrame()\n",
        "  df[\"Emotion\"] = EMOTIONS\n",
        "  df[\"Scores\"] = scores\n",
        "  st.write(px.bar(df, x='Emotion', y='Scores', title=\"Model scores for each emotion\"))\n",
        "\n",
        "\n",
        "  prediction = EMOTIONS[scores.argmax()] # Fill this in!\n",
        "  print(prediction)"
      ]
    },
    {
      "cell_type": "code",
      "execution_count": null,
      "metadata": {
        "colab": {
          "background_save": true,
          "base_uri": "https://localhost:8080/"
        },
        "id": "-e5dt1-VxYXF",
        "outputId": "3cff20c5-de3a-4320-b853-aafbc0709ad8"
      },
      "outputs": [
        {
          "name": "stdout",
          "output_type": "stream",
          "text": [
            "NgrokTunnel: \"http://263d-35-229-71-160.ngrok.io\" -> \"http://localhost:80\"\n",
            "2022-07-11 02:56:59.996 INFO    numexpr.utils: NumExpr defaulting to 2 threads.\n",
            "\u001b[0m\n",
            "\u001b[34m\u001b[1m  You can now view your Streamlit app in your browser.\u001b[0m\n",
            "\u001b[0m\n",
            "\u001b[34m  Network URL: \u001b[0m\u001b[1mhttp://172.28.0.2:80\u001b[0m\n",
            "\u001b[34m  External URL: \u001b[0m\u001b[1mhttp://35.229.71.160:80\u001b[0m\n",
            "\u001b[0m\n",
            "2022-07-11 02:57:13.887498: E tensorflow/stream_executor/cuda/cuda_driver.cc:271] failed call to cuInit: CUDA_ERROR_NO_DEVICE: no CUDA-capable device is detected\n",
            "Model: \"sequential_7\"\n",
            "_________________________________________________________________\n",
            " Layer (type)                Output Shape              Param #   \n",
            "=================================================================\n",
            " vgg16 (Functional)          (None, 1, 1, 512)         14714688  \n",
            "                                                                 \n",
            " global_average_pooling2d (G  (None, 512)              0         \n",
            " lobalAveragePooling2D)                                          \n",
            "                                                                 \n",
            " dense_23 (Dense)            (None, 1024)              525312    \n",
            "                                                                 \n",
            " dropout_14 (Dropout)        (None, 1024)              0         \n",
            "                                                                 \n",
            " dense_24 (Dense)            (None, 512)               524800    \n",
            "                                                                 \n",
            " dropout_15 (Dropout)        (None, 512)               0         \n",
            "                                                                 \n",
            " dense_25 (Dense)            (None, 5)                 2565      \n",
            "                                                                 \n",
            "=================================================================\n",
            "Total params: 15,767,365\n",
            "Trainable params: 15,767,365\n",
            "Non-trainable params: 0\n",
            "_________________________________________________________________\n",
            "Model: \"sequential_7\"\n",
            "_________________________________________________________________\n",
            " Layer (type)                Output Shape              Param #   \n",
            "=================================================================\n",
            " vgg16 (Functional)          (None, 1, 1, 512)         14714688  \n",
            "                                                                 \n",
            " global_average_pooling2d (G  (None, 512)              0         \n",
            " lobalAveragePooling2D)                                          \n",
            "                                                                 \n",
            " dense_23 (Dense)            (None, 1024)              525312    \n",
            "                                                                 \n",
            " dropout_14 (Dropout)        (None, 1024)              0         \n",
            "                                                                 \n",
            " dense_24 (Dense)            (None, 512)               524800    \n",
            "                                                                 \n",
            " dropout_15 (Dropout)        (None, 512)               0         \n",
            "                                                                 \n",
            " dense_25 (Dense)            (None, 5)                 2565      \n",
            "                                                                 \n",
            "=================================================================\n",
            "Total params: 15,767,365\n",
            "Trainable params: 15,767,365\n",
            "Non-trainable params: 0\n",
            "_________________________________________________________________\n",
            "Model: \"sequential_7\"\n",
            "_________________________________________________________________\n",
            " Layer (type)                Output Shape              Param #   \n",
            "=================================================================\n",
            " vgg16 (Functional)          (None, 1, 1, 512)         14714688  \n",
            "                                                                 \n",
            " global_average_pooling2d (G  (None, 512)              0         \n",
            " lobalAveragePooling2D)                                          \n",
            "                                                                 \n",
            " dense_23 (Dense)            (None, 1024)              525312    \n",
            "                                                                 \n",
            " dropout_14 (Dropout)        (None, 1024)              0         \n",
            "                                                                 \n",
            " dense_24 (Dense)            (None, 512)               524800    \n",
            "                                                                 \n",
            " dropout_15 (Dropout)        (None, 512)               0         \n",
            "                                                                 \n",
            " dense_25 (Dense)            (None, 5)                 2565      \n",
            "                                                                 \n",
            "=================================================================\n",
            "Total params: 15,767,365\n",
            "Trainable params: 15,767,365\n",
            "Non-trainable params: 0\n",
            "_________________________________________________________________\n",
            "Model: \"sequential_7\"\n",
            "_________________________________________________________________\n",
            " Layer (type)                Output Shape              Param #   \n",
            "=================================================================\n",
            " vgg16 (Functional)          (None, 1, 1, 512)         14714688  \n",
            "                                                                 \n",
            " global_average_pooling2d (G  (None, 512)              0         \n",
            " lobalAveragePooling2D)                                          \n",
            "                                                                 \n",
            " dense_23 (Dense)            (None, 1024)              525312    \n",
            "                                                                 \n",
            " dropout_14 (Dropout)        (None, 1024)              0         \n",
            "                                                                 \n",
            " dense_24 (Dense)            (None, 512)               524800    \n",
            "                                                                 \n",
            " dropout_15 (Dropout)        (None, 512)               0         \n",
            "                                                                 \n",
            " dense_25 (Dense)            (None, 5)                 2565      \n",
            "                                                                 \n",
            "=================================================================\n",
            "Total params: 15,767,365\n",
            "Trainable params: 15,767,365\n",
            "Non-trainable params: 0\n",
            "_________________________________________________________________\n"
          ]
        }
      ],
      "source": [
        "from pyngrok import ngrok\n",
        "#Publish Web App (Run this again whenever you make changes)\n",
        "public_url = ngrok.connect(port='80')\n",
        "print (public_url)\n",
        "! streamlit run --server.port 80 app.py"
      ]
    }
  ],
  "metadata": {
    "colab": {
      "collapsed_sections": [],
      "name": "Facial recognition",
      "provenance": [],
      "authorship_tag": "ABX9TyMHC0ZKDjgHzxhG6/MCth+l",
      "include_colab_link": true
    },
    "kernelspec": {
      "display_name": "Python 3",
      "name": "python3"
    },
    "language_info": {
      "name": "python"
    }
  },
  "nbformat": 4,
  "nbformat_minor": 0
}